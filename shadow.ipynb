{
 "cells": [
  {
   "cell_type": "code",
   "execution_count": 15,
   "metadata": {},
   "outputs": [],
   "source": [
    "from PIL import Image, ImageFilter, ImageDraw\n",
    "\n",
    "def add_shadow(img, sigma, offset, opacity, shadow_shift):\n",
    "    \"\"\" Create shadow for an image with a transparent background.  \"\"\"\n",
    "    # Create a blurred shadow mask\n",
    "    shadow = Image.new('RGBA', (img.width + offset * 2, img.height + offset * 2), color=\"#FFFFFF\")\n",
    "    draw = ImageDraw.Draw(shadow)\n",
    "    draw.bitmap((offset + shadow_shift[0], offset + shadow_shift[1]), img, fill=(0, 0, 0, int(255 * opacity)))\n",
    "    shadow_blurred = shadow.filter(ImageFilter.GaussianBlur(sigma))\n",
    "    \n",
    "    # Composite the shadow with the image\n",
    "    result = Image.new('RGBA', (img.width + offset * 2, img.height + offset * 2))\n",
    "    result.paste(shadow_blurred, (0, 0), mask=shadow_blurred)\n",
    "    result.paste(img, (offset, offset), mask=img)\n",
    "    \n",
    "    return result\n",
    "\n",
    "# Usage example:\n",
    "input_image = Image.open('o.png').convert('RGBA')\n",
    "output_image = add_shadow(input_image, sigma=20, offset=10, opacity=0.5, shadow_shift=(15, 15))\n",
    "output_image.show()  # Show or save the resulting image\n"
   ]
  }
 ],
 "metadata": {
  "kernelspec": {
   "display_name": "Python 3",
   "language": "python",
   "name": "python3"
  },
  "language_info": {
   "codemirror_mode": {
    "name": "ipython",
    "version": 3
   },
   "file_extension": ".py",
   "mimetype": "text/x-python",
   "name": "python",
   "nbconvert_exporter": "python",
   "pygments_lexer": "ipython3",
   "version": "3.7.3"
  }
 },
 "nbformat": 4,
 "nbformat_minor": 2
}
